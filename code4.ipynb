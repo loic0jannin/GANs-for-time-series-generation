{
 "cells": [
  {
   "cell_type": "code",
   "execution_count": 438,
   "metadata": {},
   "outputs": [],
   "source": [
    "# Import the necessary libs for the homework\n",
    "import torch\n",
    "from torch import nn \n",
    "import matplotlib.pyplot as plt \n",
    "import numpy as np \n",
    "import math\n",
    "import pandas as pd\n",
    "import yfinance as yf\n"
   ]
  },
  {
   "cell_type": "code",
   "execution_count": 452,
   "metadata": {},
   "outputs": [
    {
     "name": "stdout",
     "output_type": "stream",
     "text": [
      "[*********************100%%**********************]  1 of 1 completed\n",
      "torch.Size([128, 60])\n",
      "torch.Size([128, 60])\n",
      "torch.Size([128, 60])\n",
      "torch.Size([128, 60])\n",
      "torch.Size([128, 60])\n",
      "torch.Size([128, 60])\n",
      "torch.Size([128, 60])\n",
      "torch.Size([128, 60])\n",
      "torch.Size([128, 60])\n"
     ]
    }
   ],
   "source": [
    "\n",
    "# Import Amazon data from yfinance\n",
    "stock_data = yf.download(\"AMZN\", start=\"2015-01-01\", end=\"2020-01-01\")\n",
    "\n",
    "# Extract closing volumes\n",
    "closing_volumes = stock_data['Close']\n",
    "\n",
    "# Choose the slicing window\n",
    "N = 60\n",
    "\n",
    "# Create a tensor containing the slicing windows of closing volumes\n",
    "input_sequences = []\n",
    "for i in range(len(closing_volumes) - N):\n",
    "    input_sequence = closing_volumes.iloc[i:i+N].values\n",
    "    input_sequences.append(input_sequence)\n",
    "\n",
    "train_data = torch.tensor(input_sequences, dtype=torch.float32)\n",
    "\n",
    "# Convert your data to a TensorDataset using torch.TensorDataset\n",
    "train_dataset = torch.utils.data.TensorDataset(train_data)\n",
    "\n",
    "# Define batch size\n",
    "batch_size = 128\n",
    "\n",
    "# Create a DataLoader with shuffle=True for shuffling\n",
    "train_loader = torch.utils.data.DataLoader(train_dataset, batch_size=batch_size, shuffle=True, drop_last=True)\n",
    "\n",
    "for batch in train_loader:\n",
    "    print(batch[0].size())"
   ]
  },
  {
   "cell_type": "code",
   "execution_count": 440,
   "metadata": {},
   "outputs": [],
   "source": [
    "# Let's start with the generator as a simple neural network \n",
    "class Generator(nn.Module):\n",
    "\n",
    "     def __init__(self):\n",
    "         super().__init__()\n",
    "         self.model = nn.Sequential(\n",
    "             nn.Linear(N, 2*N), # Input is two dimensional\n",
    "             nn.ReLU(),\n",
    "             nn.Linear(2*N, 4*N),\n",
    "             nn.ReLU(),\n",
    "             nn.Linear(4*N, 2*N),\n",
    "             nn.ReLU(),\n",
    "             nn.Linear(2*N, N),  # Output is N dimensional\n",
    "         )\n",
    "\n",
    "     def forward(self, x):\n",
    "         output = self.model(x)\n",
    "         return output\n",
    "\n",
    "# Build the discriminator as a NN\n",
    "class Discriminator(nn.Module):\n",
    "    def __init__(self):\n",
    "        super().__init__()\n",
    "        self.model = nn.Sequential(\n",
    "            nn.Linear(N, 256), #the input is lenght N\n",
    "            nn.ReLU(),\n",
    "            nn.Dropout(0.3), #droput layers reduce overfitting\n",
    "            nn.Linear(256, 128),\n",
    "            nn.ReLU(),\n",
    "            nn.Dropout(0.3),\n",
    "            nn.Linear(128, 64),\n",
    "            nn.ReLU(),\n",
    "            nn.Dropout(0.3),\n",
    "            nn.Linear(64, 1),\n",
    "            nn.Sigmoid(), # sigmoid activation to represent probability\n",
    "        )\n",
    "\n",
    "    def forward(self, x):\n",
    "        output = self.model(x)\n",
    "        return output"
   ]
  },
  {
   "cell_type": "code",
   "execution_count": 441,
   "metadata": {},
   "outputs": [],
   "source": [
    "# Sets the parameters\n",
    "lr_d = 0.002\n",
    "lr_g = 0.001\n",
    "loss_function = nn.BCELoss()\n",
    "num_epochs = 500"
   ]
  },
  {
   "cell_type": "code",
   "execution_count": 459,
   "metadata": {},
   "outputs": [
    {
     "name": "stderr",
     "output_type": "stream",
     "text": [
      "  0%|          | 0/500 [00:00<?, ?it/s]"
     ]
    },
    {
     "name": "stderr",
     "output_type": "stream",
     "text": [
      " 27%|██▋       | 135/500 [00:23<01:57,  3.12it/s]"
     ]
    }
   ],
   "source": [
    "from tqdm import tqdm\n",
    "# Training loop :\n",
    "\n",
    "discriminator = Discriminator()\n",
    "generator = Generator()\n",
    "gen_loss_vector = []\n",
    "discr_loss_vector = []\n",
    "num_epoch_vector = []\n",
    "\n",
    "\n",
    "optimizer_discriminator = torch.optim.Adam(discriminator.parameters(), lr=lr_d)\n",
    "optimizer_generator = torch.optim.Adam(generator.parameters(), lr=lr_g)\n",
    "\n",
    "\n",
    "for epoch in tqdm(range(num_epochs)):\n",
    "\n",
    "    for index, batch in enumerate(train_loader):\n",
    "        real_data_set = batch[0]\n",
    "\n",
    "        # Preparing the real data to train the discriminator:\n",
    "        real_data_label = torch.ones(batch_size,1)\n",
    "\n",
    "        # Preparing the fake data to train the discriminator: \n",
    "        noise_data_set = torch.randn((batch_size, N))\n",
    "        fake_data_set = generator(noise_data_set)\n",
    "        fake_data_label = torch.zeros(batch_size, 1)\n",
    "\n",
    "        # Creating the training samples set:\n",
    "        training_data_set = torch.cat((real_data_set, fake_data_set))\n",
    "\n",
    "        # Creating the training labels set:\n",
    "        training_labels_set = torch.cat((real_data_label, fake_data_label))\n",
    "\n",
    "        # Train the discriminator:\n",
    "        discriminator.zero_grad()\n",
    "        output_discriminator = discriminator(training_data_set)\n",
    "        loss_discriminator = loss_function(\n",
    "            output_discriminator, training_labels_set)\n",
    "        loss_discriminator.backward()\n",
    "        optimizer_discriminator.step()\n",
    "\n",
    "        # Initialising the data for the gznzrator: \n",
    "        noise_data_set = torch.randn((batch_size, N))\n",
    "\n",
    "        # Train the generatot:  \n",
    "        generator.zero_grad()\n",
    "        output_generator = generator(noise_data_set)\n",
    "        output_discriminator_generated = discriminator(output_generator)\n",
    "        loss_generator = loss_function(torch.sigmoid(output_discriminator_generated), real_data_label)\n",
    "        # We put label = 1 so that the error we want to minimize is the distance between our generated data and the label 1\n",
    "        loss_generator.backward()\n",
    "        optimizer_generator.step()\n",
    "\n",
    "        # prepares data for loss plot afterwise:\n",
    "        if i == 0:\n",
    "            gen_loss_vector.append(float(loss_generator))\n",
    "            discr_loss_vector.append(float(loss_discriminator))\n",
    "            num_epoch_vector.append(epoch)\n",
    "\n",
    "    \n",
    "\n",
    "        # Show loss\n",
    "        if epoch % 50 == 0 and index == 0:\n",
    "            print(f\"Epoch: {epoch} Loss D.: {loss_discriminator}\")\n",
    "            print(f\"Epoch: {epoch} Loss G.: {loss_generator}\")\n",
    "\n",
    "            # Let's plot the first time series of the batch in blue\n",
    "            time_steps = []\n",
    "            for time in range(len(real_data_set[0])):\n",
    "                time_steps.append(time)\n",
    "            plt.plot(time_steps,real_data_set[0],\"-\",color='blue')\n",
    "\n",
    "            generated_samples_for_plotting = output_generator.detach()[0]\n",
    "\n",
    "            # Plot generated samples in red\n",
    "            plt.plot(time_steps, generated_samples_for_plotting, \"-\", color='red')\n",
    "            plt.show()\n",
    "\n",
    "            # let's plot the lag 1 return distribution\n",
    "            # Calculate lag-1 returns\n",
    "            lag_1_returns = generated_samples_for_plotting[1:] - generated_samples_for_plotting[:-1]\n",
    "\n",
    "            # Plot the distribution of lag-1 returns\n",
    "            plt.hist(lag_1_returns, bins=50, color='green', alpha=0.7)\n",
    "            plt.xlabel('Lag-1 Returns')\n",
    "            plt.ylabel('Frequency')\n",
    "            plt.title('Distribution of Lag-1 Returns of Generated Samples')\n",
    "            plt.show()\n",
    "\n",
    "\n"
   ]
  },
  {
   "cell_type": "code",
   "execution_count": 443,
   "metadata": {},
   "outputs": [
    {
     "data": {
      "image/png": "[encoded data removed]",
      "text/plain": [
       "<Figure size 640x480 with 1 Axes>"
      ]
     },
     "metadata": {},
     "output_type": "display_data"
    }
   ],
   "source": [
    "# Plot the functions on the same graph\n",
    "plt.plot(num_epoch_vector, gen_loss_vector, label='Generator', color = 'b')  \n",
    "plt.plot(num_epoch_vector, discr_loss_vector, label='Discriminator', color = 'r')  \n",
    "plt.legend()  \n",
    "plt.xlabel('epoch')\n",
    "plt.ylabel('loss')\n",
    "plt.title('Generator and discriminator loss over epochs')\n",
    "plt.show()"
   ]
  }
 ],
 "metadata": {
  "kernelspec": {
   "display_name": "Python 3 (ipykernel)",
   "language": "python",
   "name": "python3"
  },
  "language_info": {
   "codemirror_mode": {
    "name": "ipython",
    "version": 3
   },
   "file_extension": ".py",
   "mimetype": "text/x-python",
   "name": "python",
   "nbconvert_exporter": "python",
   "pygments_lexer": "ipython3",
   "version": "3.8.2"
  }
 },
 "nbformat": 4,
 "nbformat_minor": 2
}
